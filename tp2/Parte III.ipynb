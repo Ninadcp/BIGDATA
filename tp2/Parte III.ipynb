{
 "cells": [
  {
   "cell_type": "markdown",
   "id": "b30ed7ce",
   "metadata": {},
   "source": [
    "# TRABAJO PRáCTICO 2 - Parte III\n",
    "## De León, Di Costanzo Pereira, Morozumi\n"
   ]
  },
  {
   "cell_type": "code",
   "execution_count": 15,
   "id": "7a3d22a6",
   "metadata": {},
   "outputs": [],
   "source": [
    "#Primero importamos los paquetes que vamos a usar\n",
    "\n",
    "import pandas as pd\n",
    "import numpy as np\n",
    "from sklearn.linear_model import LinearRegression\n",
    "from sklearn.preprocessing import PolynomialFeatures\n",
    "from sklearn.metrics import r2_score, mean_squared_error, mean_absolute_error\n",
    "import statsmodels.api as sm\n",
    "import matplotlib.pyplot as plt"
   ]
  },
  {
   "cell_type": "markdown",
   "id": "28709123",
   "metadata": {},
   "source": [
    "### 1.\n",
    "Eliminen de la base todas las variables relacionadas al precio."
   ]
  },
  {
   "cell_type": "code",
   "execution_count": 16,
   "id": "b75f7e12",
   "metadata": {},
   "outputs": [
    {
     "name": "stdout",
     "output_type": "stream",
     "text": [
      "   neighbourhood_group  latitude  longitude  room_type  price  minimum_nights  \\\n",
      "0                    1  40.64749  -73.97237          1  149.0               1   \n",
      "1                    2  40.75362  -73.98377          0  225.0               1   \n",
      "3                    1  40.68514  -73.95976          0   89.0               1   \n",
      "4                    2  40.79851  -73.94399          0   80.0              10   \n",
      "5                    2  40.74767  -73.97500          0  200.0               3   \n",
      "\n",
      "   number_of_reviews  reviews_per_month  calculated_host_listings_count  \\\n",
      "0                  9               0.21                               6   \n",
      "1                 45               0.38                               2   \n",
      "3                270               4.64                               1   \n",
      "4                  9               0.10                               1   \n",
      "5                 74               0.59                               1   \n",
      "\n",
      "   availability_365  price_dummy  reviews_per_month_dummy  price*  \\\n",
      "0               365            1                        1   149.0   \n",
      "1               355            1                        1   225.0   \n",
      "3               194            1                        1    89.0   \n",
      "4                 0            1                        1    80.0   \n",
      "5               129            1                        1   200.0   \n",
      "\n",
      "   reviews_per_month*  \n",
      "0                0.21  \n",
      "1                0.38  \n",
      "3                4.64  \n",
      "4                0.10  \n",
      "5                0.59  \n"
     ]
    }
   ],
   "source": [
    "import pandas as pd\n",
    "import statsmodels.api as sm\n",
    "from sklearn.preprocessing import LabelEncoder\n",
    "\n",
    "# URL del archivo CSV que subimos al repositorio de GitHub\n",
    "url = 'https://raw.githubusercontent.com/Ninadcp/BIGDATA/main/tp2/df_sindl_sincol.csv'\n",
    "\n",
    "# Leemos el archivo CSV desde GitHub\n",
    "data = pd.read_csv(url)\n",
    "\n",
    "# Eliminamos filas con valores faltantes\n",
    "data.dropna(inplace=True)\n",
    "\n",
    "# Verificamos los primeros registros del DataFrame \n",
    "print(data.head())\n",
    "\n",
    "# Separamos las variables\n",
    "x = data.drop(['price'], axis=1)\n",
    "y = data['price']\n",
    "\n",
    "\n"
   ]
  },
  {
   "cell_type": "markdown",
   "id": "5fadf8bc",
   "metadata": {},
   "source": [
    "### 2.\n",
    "Partan la base en una base de prueba (test) y una de entrenamiento (train) utilizando el comando train test split. \n",
    "La base de entrenamiento debe comprender el 70% de los datos, y la semilla a utilizar (random state instance) debe ser 201. \n",
    "Establezca a price como su variable dependiente en la base de entrenamiento (vector y). \n",
    "El resto de las variables seran las variables independientes (matriz X). \n",
    "Recuerden agregar la columna de unos (1).\n"
   ]
  },
  {
   "cell_type": "code",
   "execution_count": 17,
   "id": "083098c6",
   "metadata": {},
   "outputs": [],
   "source": [
    "from sklearn.model_selection import train_test_split\n",
    "\n",
    "\n",
    "# Dividimos la base en entrenamiento y prueba\n",
    "x_train, x_test, y_train, y_test = train_test_split(x, y, test_size=0.3, random_state=201)\n",
    "\n",
    "# Agregamos columna de unos\n",
    "x_train = sm.add_constant(x_train)\n",
    "\n"
   ]
  },
  {
   "cell_type": "markdown",
   "id": "4144a2ba",
   "metadata": {},
   "source": [
    "### 3.\n",
    "Implementen una regresio ́n lineal y comenten los resultados obtenidos."
   ]
  },
  {
   "cell_type": "code",
   "execution_count": 18,
   "id": "a96b7c94",
   "metadata": {},
   "outputs": [
    {
     "name": "stdout",
     "output_type": "stream",
     "text": [
      "                            OLS Regression Results                            \n",
      "==============================================================================\n",
      "Dep. Variable:                  price   R-squared:                       1.000\n",
      "Model:                            OLS   Adj. R-squared:                  1.000\n",
      "Method:                 Least Squares   F-statistic:                 2.263e+29\n",
      "Date:                Sun, 21 Apr 2024   Prob (F-statistic):               0.00\n",
      "Time:                        19:36:40   Log-Likelihood:             8.9163e+05\n",
      "No. Observations:               38831   AIC:                        -1.783e+06\n",
      "Df Residuals:                   38820   BIC:                        -1.783e+06\n",
      "Df Model:                          10                                         \n",
      "Covariance Type:            nonrobust                                         \n",
      "==================================================================================================\n",
      "                                     coef    std err          t      P>|t|      [0.025      0.975]\n",
      "--------------------------------------------------------------------------------------------------\n",
      "neighbourhood_group             5.908e-14   1.86e-13      0.318      0.750   -3.05e-13    4.23e-13\n",
      "latitude                       -4.276e-13   2.49e-12     -0.171      0.864   -5.31e-12    4.46e-12\n",
      "longitude                       1.465e-12   2.95e-12      0.497      0.619   -4.31e-12    7.24e-12\n",
      "room_type                       2.798e-13   2.56e-13      1.095      0.274   -2.21e-13    7.81e-13\n",
      "minimum_nights                    1.8e-15   7.69e-15      0.234      0.815   -1.33e-14    1.69e-14\n",
      "number_of_reviews                -1.7e-15    3.3e-15     -0.516      0.606   -8.16e-15    4.76e-15\n",
      "reviews_per_month               5.422e-15   4.77e-14      0.114      0.909    -8.8e-14    9.88e-14\n",
      "calculated_host_listings_count  2.271e-16   5.15e-15      0.044      0.965   -9.87e-15    1.03e-14\n",
      "availability_365               -1.062e-16   1.07e-15     -0.100      0.921    -2.2e-15    1.98e-15\n",
      "price_dummy                     5.543e-11   1.23e-10      0.449      0.653   -1.86e-10    2.97e-10\n",
      "reviews_per_month_dummy         4.384e-11   1.23e-10      0.355      0.722   -1.98e-10    2.86e-10\n",
      "price*                             1.0000   7.03e-16   1.42e+15      0.000       1.000       1.000\n",
      "reviews_per_month*              1.005e-14   4.77e-14      0.211      0.833   -8.34e-14    1.03e-13\n",
      "==============================================================================\n",
      "Omnibus:                    95149.353   Durbin-Watson:                   0.001\n",
      "Prob(Omnibus):                  0.000   Jarque-Bera (JB):       1921292968.178\n",
      "Skew:                         -25.957   Prob(JB):                         0.00\n",
      "Kurtosis:                    1091.478   Cond. No.                     2.51e+20\n",
      "==============================================================================\n",
      "\n",
      "Notes:\n",
      "[1] Standard Errors assume that the covariance matrix of the errors is correctly specified.\n",
      "[2] The smallest eigenvalue is 4.43e-32. This might indicate that there are\n",
      "strong multicollinearity problems or that the design matrix is singular.\n"
     ]
    }
   ],
   "source": [
    "model = sm.OLS(y, x)\n",
    "results = model.fit()\n",
    "print(results.summary())\n",
    "\n",
    "y_pred = results.predict(x)\n",
    "\n"
   ]
  },
  {
   "cell_type": "markdown",
   "id": "10c1a5f7",
   "metadata": {},
   "source": [
    "#### Usamos la partición del DF y entrenamos el modelo en un conjunto de datos y lo evaluamos en otro\n"
   ]
  },
  {
   "cell_type": "code",
   "execution_count": 19,
   "id": "8fcca5ff",
   "metadata": {},
   "outputs": [
    {
     "name": "stdout",
     "output_type": "stream",
     "text": [
      "                            OLS Regression Results                            \n",
      "==============================================================================\n",
      "Dep. Variable:                  price   R-squared:                       1.000\n",
      "Model:                            OLS   Adj. R-squared:                  1.000\n",
      "Method:                 Least Squares   F-statistic:                 2.145e+30\n",
      "Date:                Sun, 21 Apr 2024   Prob (F-statistic):               0.00\n",
      "Time:                        19:36:40   Log-Likelihood:             6.5868e+05\n",
      "No. Observations:               27181   AIC:                        -1.317e+06\n",
      "Df Residuals:                   27170   BIC:                        -1.317e+06\n",
      "Df Model:                          10                                         \n",
      "Covariance Type:            nonrobust                                         \n",
      "==================================================================================================\n",
      "                                     coef    std err          t      P>|t|      [0.025      0.975]\n",
      "--------------------------------------------------------------------------------------------------\n",
      "neighbourhood_group             8.345e-15   6.21e-14      0.134      0.893   -1.13e-13     1.3e-13\n",
      "latitude                        -2.83e-13   8.33e-13     -0.340      0.734   -1.92e-12    1.35e-12\n",
      "longitude                       1.423e-12   9.85e-13      1.444      0.149   -5.09e-13    3.35e-12\n",
      "room_type                       1.431e-13   8.53e-14      1.679      0.093    -2.4e-14     3.1e-13\n",
      "minimum_nights                  5.764e-16   2.41e-15      0.239      0.811   -4.14e-15     5.3e-15\n",
      "number_of_reviews               1.182e-15   1.08e-15      1.090      0.276   -9.43e-16    3.31e-15\n",
      "reviews_per_month              -7.917e-16   1.57e-14     -0.050      0.960   -3.16e-14       3e-14\n",
      "calculated_host_listings_count -1.921e-16   1.75e-15     -0.110      0.913   -3.62e-15    3.24e-15\n",
      "availability_365               -9.625e-17   3.55e-16     -0.271      0.786   -7.93e-16       6e-16\n",
      "price_dummy                     6.027e-11   4.13e-11      1.459      0.144   -2.07e-11    1.41e-10\n",
      "reviews_per_month_dummy         6.301e-11   4.13e-11      1.526      0.127   -1.79e-11    1.44e-10\n",
      "price*                             1.0000   2.28e-16    4.4e+15      0.000       1.000       1.000\n",
      "reviews_per_month*             -1.421e-15   1.57e-14     -0.090      0.928   -3.22e-14    2.94e-14\n",
      "==============================================================================\n",
      "Omnibus:                    67259.142   Durbin-Watson:                   0.021\n",
      "Prob(Omnibus):                  0.000   Jarque-Bera (JB):       1332461578.952\n",
      "Skew:                         -26.616   Prob(JB):                         0.00\n",
      "Kurtosis:                    1086.370   Cond. No.                     2.93e+20\n",
      "==============================================================================\n",
      "\n",
      "Notes:\n",
      "[1] Standard Errors assume that the covariance matrix of the errors is correctly specified.\n",
      "[2] The smallest eigenvalue is 2.34e-32. This might indicate that there are\n",
      "strong multicollinearity problems or that the design matrix is singular.\n"
     ]
    }
   ],
   "source": [
    "# Ajustamos el modelo en el conjunto de entrenamiento\n",
    "results_t = sm.OLS(y_train, x_train).fit()\n",
    "\n",
    "# Imprimimos un resumen del modelo ajustado\n",
    "print(results_t.summary())\n",
    "\n",
    "# Predecimos los valores de la variable dependiente en los conjuntos de entrenamiento y prueba\n",
    "y_train_pred = results_t.predict(x_train)\n",
    "x_test = sm.add_constant(x_test)  # Agregamos columna de unos al conjunto de prueba\n",
    "y_test_pred = results_t.predict(x_test)"
   ]
  },
  {
   "cell_type": "code",
   "execution_count": 21,
   "id": "d01abaea",
   "metadata": {},
   "outputs": [
    {
     "name": "stdout",
     "output_type": "stream",
     "text": [
      "Error cuadrático medio en el conjunto de entrenamiento es 5.236605796206338e-23\n",
      "Error cuadrático medio en el conjunto de prueba es 5.230280891574214e-23\n"
     ]
    }
   ],
   "source": [
    "# Calcular el error cuadrático medio en los conjuntos de entrenamiento y prueba\n",
    "mse_train = mean_squared_error(y_train, y_train_pred)\n",
    "mse_test = mean_squared_error(y_test, y_test_pred)\n",
    "\n",
    "# Imprimir los errores cuadráticos medios en ambos conjuntos\n",
    "print(\"Error cuadrático medio en el conjunto de entrenamiento es {}\".format(mse_train))\n",
    "print(\"Error cuadrático medio en el conjunto de prueba es {}\".format(mse_test))"
   ]
  },
  {
   "cell_type": "markdown",
   "id": "ff6266af",
   "metadata": {},
   "source": [
    "### Al ser el error cuadrático medio muy bajo podemos suponer que el modelo ajusta bien."
   ]
  },
  {
   "cell_type": "code",
   "execution_count": null,
   "id": "a6b94cb7",
   "metadata": {},
   "outputs": [],
   "source": []
  },
  {
   "cell_type": "code",
   "execution_count": null,
   "id": "ccd3ad7c",
   "metadata": {},
   "outputs": [],
   "source": []
  },
  {
   "cell_type": "code",
   "execution_count": null,
   "id": "1e735c6f",
   "metadata": {},
   "outputs": [],
   "source": []
  }
 ],
 "metadata": {
  "kernelspec": {
   "display_name": "Python 3 (ipykernel)",
   "language": "python",
   "name": "python3"
  },
  "language_info": {
   "codemirror_mode": {
    "name": "ipython",
    "version": 3
   },
   "file_extension": ".py",
   "mimetype": "text/x-python",
   "name": "python",
   "nbconvert_exporter": "python",
   "pygments_lexer": "ipython3",
   "version": "3.11.5"
  }
 },
 "nbformat": 4,
 "nbformat_minor": 5
}
