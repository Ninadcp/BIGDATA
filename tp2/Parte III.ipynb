{
 "cells": [
  {
   "cell_type": "markdown",
   "id": "b30ed7ce",
   "metadata": {},
   "source": [
    "# TRABAJO PRáCTICO 2 - Parte III\n",
    "## De León, Di Costanzo Pereira, Morozumi\n"
   ]
  },
  {
   "cell_type": "code",
   "execution_count": 23,
   "id": "7a3d22a6",
   "metadata": {},
   "outputs": [],
   "source": [
    "#Primero importamos los paquetes que vamos a usar\n",
    "\n",
    "import pandas as pd\n",
    "import numpy as np\n",
    "from sklearn.linear_model import LinearRegression\n",
    "from sklearn.preprocessing import PolynomialFeatures\n",
    "from sklearn.metrics import r2_score, mean_squared_error, mean_absolute_error\n",
    "import statsmodels.api as sm\n",
    "import matplotlib.pyplot as plt"
   ]
  },
  {
   "cell_type": "markdown",
   "id": "28709123",
   "metadata": {},
   "source": [
    "### 1.\n",
    "Eliminen de la base todas las variables relacionadas al precio."
   ]
  },
  {
   "cell_type": "code",
   "execution_count": 36,
   "id": "b75f7e12",
   "metadata": {},
   "outputs": [
    {
     "name": "stdout",
     "output_type": "stream",
     "text": [
      "   neighbourhood_group  latitude  longitude  room_type  price  minimum_nights  \\\n",
      "0                    1  40.64749  -73.97237          1  149.0               1   \n",
      "1                    2  40.75362  -73.98377          0  225.0               1   \n",
      "2                    2  40.80902  -73.94190          1  150.0               3   \n",
      "3                    1  40.68514  -73.95976          0   89.0               1   \n",
      "4                    2  40.79851  -73.94399          0   80.0              10   \n",
      "\n",
      "   number_of_reviews  reviews_per_month  calculated_host_listings_count  \\\n",
      "0                  9               0.21                               6   \n",
      "1                 45               0.38                               2   \n",
      "2                  0                NaN                               1   \n",
      "3                270               4.64                               1   \n",
      "4                  9               0.10                               1   \n",
      "\n",
      "   availability_365  price_dummy  reviews_per_month_dummy  price*  \\\n",
      "0               365            1                        1   149.0   \n",
      "1               355            1                        1   225.0   \n",
      "2               365            1                        0   150.0   \n",
      "3               194            1                        1    89.0   \n",
      "4                 0            1                        1    80.0   \n",
      "\n",
      "   reviews_per_month*  \n",
      "0            0.210000  \n",
      "1            0.380000  \n",
      "2            1.373221  \n",
      "3            4.640000  \n",
      "4            0.100000  \n"
     ]
    }
   ],
   "source": [
    "import pandas as pd\n",
    "import statsmodels.api as sm\n",
    "from sklearn.preprocessing import LabelEncoder\n",
    "\n",
    "# URL del archivo CSV que subimos al repositorio de GitHub\n",
    "url = 'https://raw.githubusercontent.com/Ninadcp/BIGDATA/main/tp2/df_sindl_sincol.csv'\n",
    "\n",
    "# Leemos el archivo CSV desde GitHub\n",
    "data = pd.read_csv(url)\n",
    "\n",
    "# Verificamos los primeros registros del DataFrame \n",
    "print(data.head())\n",
    "\n",
    "# Separamos las variables\n",
    "x = data.drop(['price'], axis=1)\n",
    "y = data['price']\n",
    "\n",
    "\n"
   ]
  },
  {
   "cell_type": "markdown",
   "id": "5fadf8bc",
   "metadata": {},
   "source": [
    "### 2.\n",
    "Partan la base en una base de prueba (test) y una de entrenamiento (train) utilizando el comando train test split. \n",
    "La base de entrenamiento debe comprender el 70% de los datos, y la semilla a utilizar (random state instance) debe ser 201. \n",
    "Establezca a price como su variable dependiente en la base de entrenamiento (vector y). \n",
    "El resto de las variables seran las variables independientes (matriz X). \n",
    "Recuerden agregar la columna de unos (1).\n"
   ]
  },
  {
   "cell_type": "code",
   "execution_count": 37,
   "id": "083098c6",
   "metadata": {},
   "outputs": [],
   "source": [
    "from sklearn.model_selection import train_test_split\n",
    "\n",
    "\n",
    "# Dividimos la base en entrenamiento y prueba\n",
    "x_train, x_test, y_train, y_test = train_test_split(x, y, test_size=0.3, random_state=201)\n",
    "\n",
    "# Agregamos columna de unos\n",
    "x_train = sm.add_constant(x_train)\n",
    "\n",
    "\n"
   ]
  },
  {
   "cell_type": "markdown",
   "id": "4144a2ba",
   "metadata": {},
   "source": [
    "### 3.\n",
    "Implementen una regresio ́n lineal y comenten los resultados obtenidos."
   ]
  },
  {
   "cell_type": "code",
   "execution_count": null,
   "id": "a96b7c94",
   "metadata": {},
   "outputs": [],
   "source": []
  }
 ],
 "metadata": {
  "kernelspec": {
   "display_name": "Python 3 (ipykernel)",
   "language": "python",
   "name": "python3"
  },
  "language_info": {
   "codemirror_mode": {
    "name": "ipython",
    "version": 3
   },
   "file_extension": ".py",
   "mimetype": "text/x-python",
   "name": "python",
   "nbconvert_exporter": "python",
   "pygments_lexer": "ipython3",
   "version": "3.11.5"
  }
 },
 "nbformat": 4,
 "nbformat_minor": 5
}
