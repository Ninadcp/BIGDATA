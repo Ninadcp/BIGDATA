{
 "cells": [
  {
   "cell_type": "markdown",
   "id": "b30ed7ce",
   "metadata": {},
   "source": [
    "# TRABAJO PRáCTICO 2 - Parte III\n",
    "## De León, Di Costanzo Pereira, Morozumi\n"
   ]
  },
  {
   "cell_type": "code",
   "execution_count": 11,
   "id": "7a3d22a6",
   "metadata": {},
   "outputs": [],
   "source": [
    "#Primero importamos los paquetes que vamos a usar\n",
    "\n",
    "import pandas as pd\n",
    "import numpy as np\n",
    "from sklearn.linear_model import LinearRegression\n",
    "from sklearn.preprocessing import PolynomialFeatures\n",
    "from sklearn.metrics import r2_score, mean_squared_error, mean_absolute_error\n",
    "import statsmodels.api as sm\n",
    "import matplotlib.pyplot as plt"
   ]
  },
  {
   "cell_type": "markdown",
   "id": "28709123",
   "metadata": {},
   "source": [
    "### 1.\n",
    "Eliminen de la base todas las variables relacionadas al precio."
   ]
  },
  {
   "cell_type": "code",
   "execution_count": 12,
   "id": "b75f7e12",
   "metadata": {},
   "outputs": [
    {
     "name": "stdout",
     "output_type": "stream",
     "text": [
      "   neighbourhood_group  latitude  longitude  room_type  price  minimum_nights  \\\n",
      "0                    1  40.64749  -73.97237          1  149.0               1   \n",
      "1                    2  40.75362  -73.98377          0  225.0               1   \n",
      "3                    1  40.68514  -73.95976          0   89.0               1   \n",
      "4                    2  40.79851  -73.94399          0   80.0              10   \n",
      "5                    2  40.74767  -73.97500          0  200.0               3   \n",
      "\n",
      "   number_of_reviews  reviews_per_month  calculated_host_listings_count  \\\n",
      "0                  9               0.21                               6   \n",
      "1                 45               0.38                               2   \n",
      "3                270               4.64                               1   \n",
      "4                  9               0.10                               1   \n",
      "5                 74               0.59                               1   \n",
      "\n",
      "   availability_365  reviews_per_month_dummy  \n",
      "0               365                        1  \n",
      "1               355                        1  \n",
      "3               194                        1  \n",
      "4                 0                        1  \n",
      "5               129                        1  \n"
     ]
    }
   ],
   "source": [
    "import pandas as pd\n",
    "import statsmodels.api as sm\n",
    "from sklearn.preprocessing import LabelEncoder\n",
    "\n",
    "# URL del archivo CSV que subimos al repositorio de GitHub\n",
    "url = 'https://raw.githubusercontent.com/Ninadcp/BIGDATA/main/tp2/df_sindl_sincol.csv'\n",
    "\n",
    "# Leemos el archivo CSV desde GitHub\n",
    "data = pd.read_csv(url)\n",
    "\n",
    "# Eliminamos filas con valores faltantes\n",
    "data.dropna(inplace=True)\n",
    "\n",
    "#eliminamos las variables relacionadas al precio y reviews pwe month *\n",
    "data.drop(['price_dummy', 'price*', 'reviews_per_month*'], axis=1, inplace=True)\n",
    "\n",
    "# Verificamos los primeros registros del DataFrame \n",
    "print(data.head())\n",
    "\n",
    "# Separamos las variables\n",
    "x = data.drop(['price'], axis=1)\n",
    "y = data['price']\n",
    "\n"
   ]
  },
  {
   "cell_type": "markdown",
   "id": "5fadf8bc",
   "metadata": {},
   "source": [
    "### 2.\n",
    "Partan la base en una base de prueba (test) y una de entrenamiento (train) utilizando el comando train test split. \n",
    "La base de entrenamiento debe comprender el 70% de los datos, y la semilla a utilizar (random state instance) debe ser 201. \n",
    "Establezca a price como su variable dependiente en la base de entrenamiento (vector y). \n",
    "El resto de las variables seran las variables independientes (matriz X). \n",
    "Recuerden agregar la columna de unos (1).\n"
   ]
  },
  {
   "cell_type": "code",
   "execution_count": 13,
   "id": "083098c6",
   "metadata": {},
   "outputs": [],
   "source": [
    "from sklearn.model_selection import train_test_split\n",
    "\n",
    "\n",
    "# Dividimos la base en entrenamiento y prueba\n",
    "x_train, x_test, y_train, y_test = train_test_split(x, y, test_size=0.3, random_state=201)\n",
    "\n",
    "# Agregamos columna de unos\n",
    "x_train = sm.add_constant(x_train)\n",
    "\n"
   ]
  },
  {
   "cell_type": "markdown",
   "id": "4144a2ba",
   "metadata": {},
   "source": [
    "### 3.\n",
    "Implementen una regresio ́n lineal y comenten los resultados obtenidos."
   ]
  },
  {
   "cell_type": "code",
   "execution_count": 14,
   "id": "a96b7c94",
   "metadata": {},
   "outputs": [
    {
     "name": "stdout",
     "output_type": "stream",
     "text": [
      "                            OLS Regression Results                            \n",
      "==============================================================================\n",
      "Dep. Variable:                  price   R-squared:                       0.107\n",
      "Model:                            OLS   Adj. R-squared:                  0.106\n",
      "Method:                 Least Squares   F-statistic:                     515.0\n",
      "Date:                Sun, 21 Apr 2024   Prob (F-statistic):               0.00\n",
      "Time:                        21:04:54   Log-Likelihood:            -2.5806e+05\n",
      "No. Observations:               38831   AIC:                         5.161e+05\n",
      "Df Residuals:                   38821   BIC:                         5.162e+05\n",
      "Df Model:                           9                                         \n",
      "Covariance Type:            nonrobust                                         \n",
      "==================================================================================================\n",
      "                                     coef    std err          t      P>|t|      [0.025      0.975]\n",
      "--------------------------------------------------------------------------------------------------\n",
      "neighbourhood_group                8.3393      1.339      6.226      0.000       5.714      10.964\n",
      "latitude                         152.4437     17.976      8.480      0.000     117.210     187.678\n",
      "longitude                       -533.1654     21.097    -25.272      0.000    -574.515    -491.815\n",
      "room_type                        -96.5124      1.779    -54.263      0.000     -99.999     -93.026\n",
      "minimum_nights                    -0.1813      0.055     -3.270      0.001      -0.290      -0.073\n",
      "number_of_reviews                 -0.2045      0.024     -8.607      0.000      -0.251      -0.158\n",
      "reviews_per_month                  0.2135      0.688      0.310      0.756      -1.135       1.562\n",
      "calculated_host_listings_count    -0.0102      0.037     -0.273      0.785      -0.083       0.063\n",
      "availability_365                   0.1677      0.008     21.920      0.000       0.153       0.183\n",
      "reviews_per_month_dummy        -4.547e+04   1766.384    -25.743      0.000   -4.89e+04    -4.2e+04\n",
      "==============================================================================\n",
      "Omnibus:                    97250.398   Durbin-Watson:                   1.928\n",
      "Prob(Omnibus):                  0.000   Jarque-Bera (JB):       2271223845.119\n",
      "Skew:                          27.410   Prob(JB):                         0.00\n",
      "Kurtosis:                    1186.535   Cond. No.                     3.48e+05\n",
      "==============================================================================\n",
      "\n",
      "Notes:\n",
      "[1] Standard Errors assume that the covariance matrix of the errors is correctly specified.\n",
      "[2] The condition number is large, 3.48e+05. This might indicate that there are\n",
      "strong multicollinearity or other numerical problems.\n"
     ]
    }
   ],
   "source": [
    "model = sm.OLS(y, x)\n",
    "results = model.fit()\n",
    "print(results.summary())\n",
    "\n",
    "y_pred = results.predict(x)\n"
   ]
  },
  {
   "cell_type": "markdown",
   "id": "10c1a5f7",
   "metadata": {},
   "source": [
    "#### Usamos la partición del DF y entrenamos el modelo en un conjunto de datos y lo evaluamos en otro\n"
   ]
  },
  {
   "cell_type": "code",
   "execution_count": 15,
   "id": "8fcca5ff",
   "metadata": {},
   "outputs": [
    {
     "name": "stdout",
     "output_type": "stream",
     "text": [
      "                            OLS Regression Results                            \n",
      "==============================================================================\n",
      "Dep. Variable:                  price   R-squared:                       0.100\n",
      "Model:                            OLS   Adj. R-squared:                  0.099\n",
      "Method:                 Least Squares   F-statistic:                     333.8\n",
      "Date:                Sun, 21 Apr 2024   Prob (F-statistic):               0.00\n",
      "Time:                        21:04:54   Log-Likelihood:            -1.8161e+05\n",
      "No. Observations:               27181   AIC:                         3.632e+05\n",
      "Df Residuals:                   27171   BIC:                         3.633e+05\n",
      "Df Model:                           9                                         \n",
      "Covariance Type:            nonrobust                                         \n",
      "==================================================================================================\n",
      "                                     coef    std err          t      P>|t|      [0.025      0.975]\n",
      "--------------------------------------------------------------------------------------------------\n",
      "neighbourhood_group                8.1920      1.654      4.952      0.000       4.950      11.434\n",
      "latitude                         142.4549     22.195      6.418      0.000      98.951     185.959\n",
      "longitude                       -529.2885     26.074    -20.300      0.000    -580.394    -478.182\n",
      "room_type                        -95.4811      2.198    -43.438      0.000     -99.789     -91.173\n",
      "minimum_nights                    -0.0560      0.064     -0.873      0.383      -0.182       0.070\n",
      "number_of_reviews                 -0.2146      0.029     -7.431      0.000      -0.271      -0.158\n",
      "reviews_per_month                  0.8749      0.838      1.044      0.297      -0.768       2.518\n",
      "calculated_host_listings_count    -0.0138      0.047     -0.295      0.768      -0.105       0.078\n",
      "availability_365                   0.1668      0.009     17.705      0.000       0.148       0.185\n",
      "reviews_per_month_dummy        -4.478e+04   2185.504    -20.490      0.000   -4.91e+04   -4.05e+04\n",
      "==============================================================================\n",
      "Omnibus:                    68720.548   Durbin-Watson:                   2.013\n",
      "Prob(Omnibus):                  0.000   Jarque-Bera (JB):       1573553110.418\n",
      "Skew:                          28.086   Prob(JB):                         0.00\n",
      "Kurtosis:                    1180.389   Cond. No.                     3.48e+05\n",
      "==============================================================================\n",
      "\n",
      "Notes:\n",
      "[1] Standard Errors assume that the covariance matrix of the errors is correctly specified.\n",
      "[2] The condition number is large, 3.48e+05. This might indicate that there are\n",
      "strong multicollinearity or other numerical problems.\n"
     ]
    }
   ],
   "source": [
    "# Ajustamos el modelo en el conjunto de entrenamiento\n",
    "results_t = sm.OLS(y_train, x_train).fit()\n",
    "\n",
    "# Imprimimos un resumen del modelo ajustado\n",
    "print(results_t.summary())\n",
    "\n",
    "# Predecimos los valores de la variable dependiente en los conjuntos de entrenamiento y prueba\n",
    "y_train_pred = results_t.predict(x_train)\n",
    "x_test = sm.add_constant(x_test)  # Agregamos columna de unos al conjunto de prueba\n",
    "y_test_pred = results_t.predict(x_test)"
   ]
  },
  {
   "cell_type": "code",
   "execution_count": 16,
   "id": "d01abaea",
   "metadata": {},
   "outputs": [
    {
     "name": "stdout",
     "output_type": "stream",
     "text": [
      "Error cuadrático medio en el conjunto de entrenamiento es 37232.13935725737\n",
      "Error cuadrático medio en el conjunto de prueba es 28674.679830454133\n"
     ]
    }
   ],
   "source": [
    "# Calcular el error cuadrático medio en los conjuntos de entrenamiento y prueba\n",
    "mse_train = mean_squared_error(y_train, y_train_pred)\n",
    "mse_test = mean_squared_error(y_test, y_test_pred)\n",
    "\n",
    "# Imprimir los errores cuadráticos medios en ambos conjuntos\n",
    "print(\"Error cuadrático medio en el conjunto de entrenamiento es {}\".format(mse_train))\n",
    "print(\"Error cuadrático medio en el conjunto de prueba es {}\".format(mse_test))"
   ]
  },
  {
   "cell_type": "markdown",
   "id": "ff6266af",
   "metadata": {},
   "source": [
    "### Al ser el error cuadrático medio muy bajo podemos suponer que el modelo ajusta bien."
   ]
  },
  {
   "cell_type": "code",
   "execution_count": null,
   "id": "a6b94cb7",
   "metadata": {},
   "outputs": [],
   "source": []
  },
  {
   "cell_type": "code",
   "execution_count": null,
   "id": "ccd3ad7c",
   "metadata": {},
   "outputs": [],
   "source": []
  },
  {
   "cell_type": "code",
   "execution_count": null,
   "id": "1e735c6f",
   "metadata": {},
   "outputs": [],
   "source": []
  }
 ],
 "metadata": {
  "kernelspec": {
   "display_name": "Python 3 (ipykernel)",
   "language": "python",
   "name": "python3"
  },
  "language_info": {
   "codemirror_mode": {
    "name": "ipython",
    "version": 3
   },
   "file_extension": ".py",
   "mimetype": "text/x-python",
   "name": "python",
   "nbconvert_exporter": "python",
   "pygments_lexer": "ipython3",
   "version": "3.11.5"
  }
 },
 "nbformat": 4,
 "nbformat_minor": 5
}
