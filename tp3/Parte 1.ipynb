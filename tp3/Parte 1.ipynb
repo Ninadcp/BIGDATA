{
 "cells": [
  {
   "cell_type": "code",
   "execution_count": 8,
   "id": "0fd13550-fd6f-4a9a-af5c-c90288e8cdfa",
   "metadata": {},
   "outputs": [
    {
     "name": "stdout",
     "output_type": "stream",
     "text": [
      "Requirement already satisfied: requests in /Users/ninadicostanzopereira/anaconda3/lib/python3.11/site-packages (2.31.0)\n",
      "Requirement already satisfied: pandas in /Users/ninadicostanzopereira/anaconda3/lib/python3.11/site-packages (1.5.3)\n",
      "Requirement already satisfied: openpyxl in /Users/ninadicostanzopereira/anaconda3/lib/python3.11/site-packages (3.0.10)\n",
      "Requirement already satisfied: charset-normalizer<4,>=2 in /Users/ninadicostanzopereira/anaconda3/lib/python3.11/site-packages (from requests) (2.0.4)\n",
      "Requirement already satisfied: idna<4,>=2.5 in /Users/ninadicostanzopereira/anaconda3/lib/python3.11/site-packages (from requests) (3.4)\n",
      "Requirement already satisfied: urllib3<3,>=1.21.1 in /Users/ninadicostanzopereira/anaconda3/lib/python3.11/site-packages (from requests) (1.26.16)\n",
      "Requirement already satisfied: certifi>=2017.4.17 in /Users/ninadicostanzopereira/anaconda3/lib/python3.11/site-packages (from requests) (2023.7.22)\n",
      "Requirement already satisfied: python-dateutil>=2.8.1 in /Users/ninadicostanzopereira/anaconda3/lib/python3.11/site-packages (from pandas) (2.8.2)\n",
      "Requirement already satisfied: pytz>=2020.1 in /Users/ninadicostanzopereira/anaconda3/lib/python3.11/site-packages (from pandas) (2023.3.post1)\n",
      "Requirement already satisfied: numpy>=1.21.0 in /Users/ninadicostanzopereira/anaconda3/lib/python3.11/site-packages (from pandas) (1.24.3)\n",
      "Requirement already satisfied: et_xmlfile in /Users/ninadicostanzopereira/anaconda3/lib/python3.11/site-packages (from openpyxl) (1.1.0)\n",
      "Requirement already satisfied: six>=1.5 in /Users/ninadicostanzopereira/anaconda3/lib/python3.11/site-packages (from python-dateutil>=2.8.1->pandas) (1.16.0)\n",
      "Note: you may need to restart the kernel to use updated packages.\n"
     ]
    }
   ],
   "source": [
    "pip install requests pandas openpyxl\n"
   ]
  },
  {
   "cell_type": "code",
   "execution_count": 9,
   "id": "4ef6d23d",
   "metadata": {},
   "outputs": [
    {
     "name": "stdout",
     "output_type": "stream",
     "text": [
      "                          CODUSU  ANO4  TRIMESTRE  NRO_HOGAR  COMPONENTE  H15  \\\n",
      "0  TQRMNOSUWHLMKQCDEFNFF00852219  2023          4          1           1    1   \n",
      "1  TQRMNOSUWHLMKQCDEFNFF00852219  2023          4          1           2    1   \n",
      "2  TQRMNOTXQHKOLMCDEGNFJ00794590  2023          4          1           1    1   \n",
      "3  TQRMNOTXQHKOLMCDEGNFJ00794590  2023          4          1           2    1   \n",
      "4  TQRMNOTXQHKOLMCDEGNFJ00794590  2023          4          1           3    0   \n",
      "\n",
      "   REGION MAS_500  AGLOMERADO  PONDERA  ...  PDECIFR  ADECIFR       IPCF  \\\n",
      "0      41       N           7      370  ...     12.0       12       0.00   \n",
      "1      41       N           7      370  ...     12.0       12       0.00   \n",
      "2      44       N          17      281  ...      9.0        7  216666.67   \n",
      "3      44       N          17      281  ...      9.0        7  216666.67   \n",
      "4      44       N          17      281  ...      9.0        7  216666.67   \n",
      "\n",
      "   DECCFR  IDECCFR  RDECCFR  GDECCFR  PDECCFR  ADECCFR  PONDIH  \n",
      "0      12     12.0       12      NaN     12.0       12       0  \n",
      "1      12     12.0       12      NaN     12.0       12       0  \n",
      "2       8      8.0        7      NaN      8.0        6     387  \n",
      "3       8      8.0        7      NaN      8.0        6     387  \n",
      "4       8      8.0        7      NaN      8.0        6     387  \n",
      "\n",
      "[5 rows x 177 columns]\n"
     ]
    }
   ],
   "source": [
    "import requests\n",
    "import pandas as pd\n",
    "\n",
    "# URL del archivo Excel en GitHub\n",
    "url = 'https://github.com/Ninadcp/BIGDATA/raw/29365bf058de109fcd696c339c3caad132e0f592/tp3/usu_individual_T423.xlsx'\n",
    "\n",
    "# Descargar el archivo Excel\n",
    "response = requests.get(url)\n",
    "file_path = 'usu_individual_T423.xlsx'\n",
    "\n",
    "# Guardar el archivo Excel en el disco\n",
    "with open(file_path, 'wb') as file:\n",
    "    file.write(response.content)\n",
    "\n",
    "# Leer el archivo Excel usando pandas\n",
    "df = pd.read_excel(file_path)\n",
    "\n",
    "# Mostrar las primeras filas del DataFrame para verificar\n",
    "print(df.head())\n"
   ]
  },
  {
   "cell_type": "code",
   "execution_count": 13,
   "id": "e6c81e46",
   "metadata": {},
   "outputs": [
    {
     "name": "stdout",
     "output_type": "stream",
     "text": [
      "                            CODUSU  ANO4  TRIMESTRE  NRO_HOGAR  COMPONENTE  \\\n",
      "109  TQRMNOTUUHJMLPCDEIIAD00801670  2023          4          1           1   \n",
      "110  TQRMNOTUUHJMLPCDEIIAD00801670  2023          4          1           2   \n",
      "111  TQRMNOPUUHJKLQCDEIIAD00793187  2023          4          1           1   \n",
      "112  TQRMNOPUUHJKLQCDEIIAD00793187  2023          4          1           2   \n",
      "113  TQRMNOPUTHKLMNCDEIIAD00791268  2023          4          1           1   \n",
      "\n",
      "     H15  REGION MAS_500  AGLOMERADO  PONDERA  ...  PDECIFR  ADECIFR  \\\n",
      "109    1       1       S          32     1775  ...      NaN        5   \n",
      "110    1       1       S          32     1775  ...      NaN        5   \n",
      "111    2       1       S          32      609  ...      NaN       12   \n",
      "112    1       1       S          32      609  ...      NaN       12   \n",
      "113    1       1       S          32     3129  ...      NaN        8   \n",
      "\n",
      "          IPCF  DECCFR  IDECCFR  RDECCFR  GDECCFR  PDECCFR  ADECCFR  PONDIH  \n",
      "109  225000.00       8      NaN        8      8.0      NaN        5    3079  \n",
      "110  225000.00       8      NaN        8      8.0      NaN        5    3079  \n",
      "111       0.00      12      NaN       12     12.0      NaN       12       0  \n",
      "112       0.00      12      NaN       12     12.0      NaN       12       0  \n",
      "113  266666.67       9      NaN        8      8.0      NaN        6    4648  \n",
      "\n",
      "[5 rows x 177 columns]\n"
     ]
    }
   ],
   "source": [
    "\n",
    "# Filtrar las observaciones que corresponden a Ciudad Autónoma de Buenos Aires o Gran Buenos Aires, es decir me quiero quedar con AGLOMERADO==32(Ciudad de Buenos Aires) y AGLOMERADO== 33 (Partidos del GBA)\n",
    "df_filtered = df[(df['AGLOMERADO'] == 32) | (df['AGLOMERADO'] == 33)]\n",
    "\n",
    "# Guardar los datos filtrados en un nuevo archivo Excel\n",
    "df_filtered.to_excel('datos_filtrados.xlsx', index=False)\n",
    "\n",
    "print(df_filtered.head())\n",
    "\n"
   ]
  },
  {
   "cell_type": "code",
   "execution_count": null,
   "id": "efbe6396",
   "metadata": {},
   "outputs": [],
   "source": []
  }
 ],
 "metadata": {
  "kernelspec": {
   "display_name": "Python 3 (ipykernel)",
   "language": "python",
   "name": "python3"
  },
  "language_info": {
   "codemirror_mode": {
    "name": "ipython",
    "version": 3
   },
   "file_extension": ".py",
   "mimetype": "text/x-python",
   "name": "python",
   "nbconvert_exporter": "python",
   "pygments_lexer": "ipython3",
   "version": "3.11.5"
  }
 },
 "nbformat": 4,
 "nbformat_minor": 5
}
