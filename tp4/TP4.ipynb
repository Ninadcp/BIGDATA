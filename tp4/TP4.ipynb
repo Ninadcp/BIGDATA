{
 "cells": [
  {
   "cell_type": "markdown",
   "id": "fa431699",
   "metadata": {},
   "source": [
    "# Parte I: Análisis de la base de hogares y cálculo de pobreza"
   ]
  },
  {
   "cell_type": "code",
   "execution_count": 40,
   "id": "fe077a7b",
   "metadata": {},
   "outputs": [],
   "source": [
    "import pandas as pd\n",
    "import matplotlib.pyplot as plt\n"
   ]
  },
  {
   "cell_type": "markdown",
   "id": "900125ac",
   "metadata": {},
   "source": [
    "## 2. \n",
    "Descarguen la base de microdatos de la EPH correspondiente al cuatro trimestre\n",
    "de 2023 (la base de hogares se llama usu hogar T423.xls). Importen los datos\n",
    "de la encuesta de hogar y, al igual que en el TP3, conserven solo las observaciones\n",
    "que corresponden a los aglomerados de Ciudad Autónoma de Buenos Aires o\n",
    "del Gran Buenos Aires. Unan, a la base de la encuesta individual, la base de\n",
    "la encuesta de hogar. Asegúrense de estar usando las variables CODUSU y\n",
    "NRO HOGAR para el merge.\n"
   ]
  },
  {
   "cell_type": "code",
   "execution_count": 33,
   "id": "17b5c70d",
   "metadata": {},
   "outputs": [],
   "source": [
    "#Abro el file y lo llamo eph\n",
    "\n",
    "eph = pd.read_excel(\"/Users/ninadicostanzopereira/Downloads/EPH_usu_4to_Trim_2023_xlsx 3/usu_individual_T423.xlsx\")\n",
    "eph_hogares = pd.read_excel(\"/Users/ninadicostanzopereira/Downloads/EPH_usu_4to_Trim_2023_xlsx/usu_hogar_T423.xlsx\")"
   ]
  },
  {
   "cell_type": "code",
   "execution_count": 34,
   "id": "b59ee28e",
   "metadata": {},
   "outputs": [
    {
     "name": "stdout",
     "output_type": "stream",
     "text": [
      "<class 'pandas.core.frame.DataFrame'>\n",
      "RangeIndex: 47337 entries, 0 to 47336\n",
      "Columns: 177 entries, CODUSU to PONDIH\n",
      "dtypes: float64(106), int64(66), object(5)\n",
      "memory usage: 63.9+ MB\n",
      "None\n",
      "\n",
      "Número de filas: 47337\n",
      "Número de columnas: 177\n",
      "\n",
      "                           CODUSU  ANO4  TRIMESTRE  NRO_HOGAR  COMPONENTE  H15  \\\n",
      "0  TQRMNOSUWHLMKQCDEFNFF00852219  2023          4          1           1    1   \n",
      "1  TQRMNOSUWHLMKQCDEFNFF00852219  2023          4          1           2    1   \n",
      "2  TQRMNOTXQHKOLMCDEGNFJ00794590  2023          4          1           1    1   \n",
      "3  TQRMNOTXQHKOLMCDEGNFJ00794590  2023          4          1           2    1   \n",
      "4  TQRMNOTXQHKOLMCDEGNFJ00794590  2023          4          1           3    0   \n",
      "\n",
      "   REGION MAS_500  AGLOMERADO  PONDERA  ...  PDECIFR  ADECIFR       IPCF  \\\n",
      "0      41       N           7      370  ...     12.0       12       0.00   \n",
      "1      41       N           7      370  ...     12.0       12       0.00   \n",
      "2      44       N          17      281  ...      9.0        7  216666.67   \n",
      "3      44       N          17      281  ...      9.0        7  216666.67   \n",
      "4      44       N          17      281  ...      9.0        7  216666.67   \n",
      "\n",
      "   DECCFR  IDECCFR  RDECCFR  GDECCFR  PDECCFR  ADECCFR  PONDIH  \n",
      "0      12     12.0       12      NaN     12.0       12       0  \n",
      "1      12     12.0       12      NaN     12.0       12       0  \n",
      "2       8      8.0        7      NaN      8.0        6     387  \n",
      "3       8      8.0        7      NaN      8.0        6     387  \n",
      "4       8      8.0        7      NaN      8.0        6     387  \n",
      "\n",
      "[5 rows x 177 columns]\n",
      "                               CODUSU     ANO4  TRIMESTRE     NRO_HOGAR  \\\n",
      "count                           47337  47337.0    47337.0  47337.000000   \n",
      "unique                          16334      NaN        NaN           NaN   \n",
      "top     TQRMNOTXUHKMLLCDEHLEH00790394      NaN        NaN           NaN   \n",
      "freq                               16      NaN        NaN           NaN   \n",
      "mean                              NaN   2023.0        4.0      1.041912   \n",
      "std                               NaN      0.0        0.0      0.876028   \n",
      "min                               NaN   2023.0        4.0      1.000000   \n",
      "25%                               NaN   2023.0        4.0      1.000000   \n",
      "50%                               NaN   2023.0        4.0      1.000000   \n",
      "75%                               NaN   2023.0        4.0      1.000000   \n",
      "max                               NaN   2023.0        4.0     71.000000   \n",
      "\n",
      "          COMPONENTE           H15        REGION MAS_500    AGLOMERADO  \\\n",
      "count   47337.000000  47337.000000  47337.000000   47337  47337.000000   \n",
      "unique           NaN           NaN           NaN       2           NaN   \n",
      "top              NaN           NaN           NaN       N           NaN   \n",
      "freq             NaN           NaN           NaN   24936           NaN   \n",
      "mean        2.461119      0.878657     35.621184     NaN     23.449458   \n",
      "std         1.593560      0.331282     14.938095     NaN     17.961525   \n",
      "min         1.000000      0.000000      1.000000     NaN      2.000000   \n",
      "25%         1.000000      1.000000     40.000000     NaN     10.000000   \n",
      "50%         2.000000      1.000000     42.000000     NaN     22.000000   \n",
      "75%         3.000000      1.000000     43.000000     NaN     32.000000   \n",
      "max        16.000000      2.000000     44.000000     NaN     93.000000   \n",
      "\n",
      "             PONDERA  ...       PDECIFR       ADECIFR          IPCF  \\\n",
      "count   47337.000000  ...  24936.000000  47337.000000  4.733700e+04   \n",
      "unique           NaN  ...           NaN           NaN           NaN   \n",
      "top              NaN  ...           NaN           NaN           NaN   \n",
      "freq             NaN  ...           NaN           NaN           NaN   \n",
      "mean      623.795551  ...      7.132259      7.354691  1.098688e+05   \n",
      "std       827.208398  ...      3.487672      3.616680  4.874042e+05   \n",
      "min        27.000000  ...      0.000000      0.000000  0.000000e+00   \n",
      "25%       173.000000  ...      4.000000      4.000000  1.000000e+04   \n",
      "50%       316.000000  ...      7.000000      8.000000  7.960000e+04   \n",
      "75%       642.000000  ...     10.000000     10.000000  1.436000e+05   \n",
      "max      8937.000000  ...     12.000000     12.000000  1.012500e+08   \n",
      "\n",
      "              DECCFR       IDECCFR       RDECCFR       GDECCFR       PDECCFR  \\\n",
      "count   47337.000000  39957.000000  47337.000000  22401.000000  24936.000000   \n",
      "unique           NaN           NaN           NaN           NaN           NaN   \n",
      "top              NaN           NaN           NaN           NaN           NaN   \n",
      "freq             NaN           NaN           NaN           NaN           NaN   \n",
      "mean        6.352388      6.220512      6.520544      6.699031      6.212263   \n",
      "std         4.004932      3.905308      3.959781      4.122677      3.829102   \n",
      "min         0.000000      0.000000      0.000000      0.000000      0.000000   \n",
      "25%         3.000000      3.000000      3.000000      3.000000      3.000000   \n",
      "50%         6.000000      6.000000      6.000000      6.000000      6.000000   \n",
      "75%        10.000000     10.000000     10.000000     12.000000      9.000000   \n",
      "max        12.000000     12.000000     12.000000     12.000000     12.000000   \n",
      "\n",
      "             ADECCFR        PONDIH  \n",
      "count   47337.000000  47337.000000  \n",
      "unique           NaN           NaN  \n",
      "top              NaN           NaN  \n",
      "freq             NaN           NaN  \n",
      "mean        6.532712    623.795995  \n",
      "std         3.952512   1191.608539  \n",
      "min         0.000000      0.000000  \n",
      "25%         3.000000     53.000000  \n",
      "50%         6.000000    245.000000  \n",
      "75%        10.000000    549.000000  \n",
      "max        12.000000  16756.000000  \n",
      "\n",
      "[11 rows x 177 columns]\n"
     ]
    }
   ],
   "source": [
    "#Examinamos la base, vemos tamaño\n",
    "print(eph.info()) \n",
    "\n",
    "#Vemos tamaño\n",
    "num_rows, num_columns = eph.shape\n",
    "print(f\"\\nNúmero de filas: {num_rows}\")\n",
    "print(f\"Número de columnas: {num_columns}\")\n",
    "\n",
    "print(\"\\n\", eph.head()) \n",
    "print(eph.describe(include='all'))\n"
   ]
  },
  {
   "cell_type": "code",
   "execution_count": 35,
   "id": "e43ac8f3",
   "metadata": {},
   "outputs": [],
   "source": [
    "#Dejamos solo las observaciones de CABA y GBA\n",
    "eph_ba = eph.loc[eph['AGLOMERADO'].isin([32,33])]\n",
    "    \n",
    "    \n",
    "#Sacamos los valores negativos.\n",
    "eph_ba_filtrada=eph_ba[(eph_ba[\"CH06\"]>0)]\n",
    "    "
   ]
  },
  {
   "cell_type": "code",
   "execution_count": 37,
   "id": "5c0309a7",
   "metadata": {
    "scrolled": true
   },
   "outputs": [],
   "source": [
    "#Unimos a la base de la encuesta individual, la base de la encuesta de hogar\n",
    "merged_data = pd.merge(eph_ba_filtrada, eph_hogares, on=['CODUSU', 'NRO_HOGAR'])\n",
    "\n"
   ]
  },
  {
   "cell_type": "code",
   "execution_count": 46,
   "id": "e2147438",
   "metadata": {},
   "outputs": [],
   "source": [
    "output_path = '/Users/ninadicostanzopereira/Desktop/BIGDATA/tp4/usu_individual_T423_actualizado.xlsx'\n",
    "merged_data.to_excel(output_path, index=False, engine='openpyxl')"
   ]
  },
  {
   "cell_type": "code",
   "execution_count": 26,
   "id": "0dd78de4",
   "metadata": {},
   "outputs": [],
   "source": []
  },
  {
   "cell_type": "markdown",
   "id": "df3a3f61",
   "metadata": {},
   "source": [
    "## 5. \n",
    "Presenten estad´ısticas descriptivas de cinco variables de la encuesta de hogar\n",
    "que ustedes creen que pueden ser relevantes para predecir pobreza. Comenten\n",
    "las estad´ısticas obtenidas."
   ]
  },
  {
   "cell_type": "code",
   "execution_count": 51,
   "id": "c434cf6d",
   "metadata": {},
   "outputs": [
    {
     "name": "stdout",
     "output_type": "stream",
     "text": [
      "Estadísticas descriptivas de las variables seleccionadas:\n",
      "             IPCF_x         CH04         CH06     NIVEL_ED     PP3E_TOT\n",
      "count  7.332000e+03  7332.000000  7332.000000  7332.000000  3490.000000\n",
      "mean   1.050830e+05     1.526732    38.516367     3.811511    43.165043\n",
      "std    1.635742e+05     0.499319    22.812489     1.747751    81.450140\n",
      "min    0.000000e+00     1.000000     1.000000     1.000000     0.000000\n",
      "25%    0.000000e+00     1.000000    19.000000     3.000000    24.000000\n",
      "50%    5.788889e+04     2.000000    37.000000     4.000000    40.000000\n",
      "75%    1.480000e+05     2.000000    56.000000     5.000000    48.000000\n",
      "max    2.100000e+06     2.000000   101.000000     7.000000   999.000000\n"
     ]
    }
   ],
   "source": [
    "# Elgimos estas variabels relevantes\n",
    "variables_relevantes = ['IPCF_x', 'CH04', 'CH06', 'NIVEL_ED', 'PP3E_TOT']\n",
    "df_relevantes = df[variables_relevantes]\n",
    "\n",
    "#Hacemos estadística descriptiva de las variables \n",
    "estadisticas_descriptivas = df_relevantes.describe(include='all')\n",
    "\n",
    "#Imprimimos esta información\n",
    "print(\"Estadísticas descriptivas de las variables seleccionadas:\")\n",
    "print(estadisticas_descriptivas)\n"
   ]
  },
  {
   "cell_type": "markdown",
   "id": "f761f812",
   "metadata": {},
   "source": [
    "## 6 \n",
    "Presenten un gRÁfico (que no sea de barras ni una matriz de correlación) para\n",
    "describir la interacción o relación entre dos o más variables. Comenten el gráfico\n",
    "y la relación entre variables."
   ]
  },
  {
   "cell_type": "code",
   "execution_count": 47,
   "id": "26264953",
   "metadata": {},
   "outputs": [
    {
     "data": {
      "image/png": "[encoded data removed]",
      "text/plain": [
       "<Figure size 1000x600 with 1 Axes>"
      ]
     },
     "metadata": {},
     "output_type": "display_data"
    }
   ],
   "source": [
    "#Hacemos un gráfico de dispersión con las horas trabajadas y el ingreso mensual.\n",
    "# Supongamos que 'p47T' es ingreso mensual y 'pp3E_TOT' es horas trabajadas por semana\n",
    "df = merged_data\n",
    "ingreso_mensual = df['ITF_x']\n",
    "df['horas_trabajadas'] = df['PP3E_TOT'] + df['PP3F_TOT']\n",
    "horas_trabajadas = df['horas_trabajadas']\n",
    "\n",
    "# Crear el gráfico de dispersión\n",
    "plt.figure(figsize=(10, 6))\n",
    "plt.scatter(horas_trabajadas, ingreso_mensual, alpha=0.5)\n",
    "plt.title('Relación entre Ingreso Mensual y Horas Trabajadas por Semana')\n",
    "plt.xlabel('Horas Trabajadas por Semana')\n",
    "plt.ylabel('Ingreso Mensual')\n",
    "plt.grid(True)\n",
    "plt.show()\n"
   ]
  },
  {
   "cell_type": "markdown",
   "id": "fcd91fab",
   "metadata": {},
   "source": [
    "## 7.\n",
    "Repitan el inciso 1.2.f del TP3 para construir la columna adulto equiv y la\n",
    "columna ad equiv hogar "
   ]
  },
  {
   "cell_type": "code",
   "execution_count": null,
   "id": "e1de7fd4",
   "metadata": {},
   "outputs": [],
   "source": [
    "# Cargar los datos\n",
    "data = pd.read_excel(file_path_eph)\n",
    "adulto_equiv = pd.read_excel(file_path_adulto_equiv, skiprows=3, usecols='A:C', nrows=27)\n",
    "\n",
    "def limpiar_edad(edad):\n",
    "    '''\n",
    "    edad es un string que tiene edad y más datos así que queremos que devuelva solo la edad en número\n",
    "    '''\n",
    "    if 'más de' in edad:\n",
    "        edad = 75\n",
    "        \n",
    "    elif 'Menor de' in edad:\n",
    "        edad = 0\n",
    "        \n",
    "    elif 'a ' in edad:\n",
    "        edad = int(edad.split(' ')[0])\n",
    "        \n",
    "    elif len(edad.split(' ')) == 1:\n",
    "            edad = int(edad[0:1])\n",
    "    else:\n",
    "        edad = int(edad.split(' ')[0])\n",
    "        \n",
    "    return edad\n",
    "\n",
    "#sacamos las filas vacías es decir deja las filas que tienen datos no nulos\n",
    "adulto_equiv = adulto_equiv.dropna()\n",
    "\n",
    "#aplicamos la función que definimos antes:\n",
    "adulto_equiv['Edad'] = adulto_equiv['Edad'].apply(limpiar_edad)\n",
    "\n",
    "#miro que edades ya tengo \n",
    "edades_existentes = adulto_equiv['Edad'].unique()\n",
    "\n",
    "# hago una lista con edades existentes es decir hasta los 99 años\n",
    "todas_las_edades = pd.DataFrame({'Edad': range(100)})\n",
    "\n",
    "# Fusionar el DataFrame con todas las edades con el DataFrame original\n",
    "adulto_equiv = pd.merge(todas_las_edades, adulto_equiv, on='Edad', how='left')\n",
    "\n",
    "# Rellenar las filas faltantes copiando los valores de la fila anterior\n",
    "adulto_equiv.fillna(method='ffill', inplace=True)\n",
    "\n",
    "# Guardamos el DataFrame como archivo Excel\n",
    "adulto_equiv.to_excel('tabla_final.xlsx', index=False)"
   ]
  }
 ],
 "metadata": {
  "kernelspec": {
   "display_name": "Python 3 (ipykernel)",
   "language": "python",
   "name": "python3"
  },
  "language_info": {
   "codemirror_mode": {
    "name": "ipython",
    "version": 3
   },
   "file_extension": ".py",
   "mimetype": "text/x-python",
   "name": "python",
   "nbconvert_exporter": "python",
   "pygments_lexer": "ipython3",
   "version": "3.11.5"
  }
 },
 "nbformat": 4,
 "nbformat_minor": 5
}
