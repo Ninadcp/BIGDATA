{
  "cells": [
    {
      "cell_type": "markdown",
      "metadata": {
        "id": "view-in-github",
        "colab_type": "text"
      },
      "source": [
        "<a href=\"https://colab.research.google.com/github/Ninadcp/BIGDATA/blob/main/Consignas_TP1.ipynb\" target=\"_parent\"><img src=\"https://colab.research.google.com/assets/colab-badge.svg\" alt=\"Open In Colab\"/></a>"
      ]
    },
    {
      "cell_type": "markdown",
      "metadata": {
        "collapsed": true,
        "id": "Dh8MkXaG-c9Y",
        "jupyter": {
          "outputs_hidden": true
        }
      },
      "source": [
        "# Big Data 2025\n",
        "\n",
        "## Trabajo Práctico 1"
      ]
    },
    {
      "cell_type": "markdown",
      "metadata": {
        "id": "RhBlm6mZ-c9e"
      },
      "source": [
        "### Reglas de formato y presentación\n",
        "- El trabajo debe estar bien comentado (utilizando #) para que el código sea fácil de entender por sus compañeros y profesores.\n",
        "\n",
        "- El mismo debe ser completado en este Jupyter Notebook y entregado como tal, es decir en un archivo .ipynb\n"
      ]
    },
    {
      "cell_type": "markdown",
      "metadata": {
        "id": "ZEjGaa4U-c9g"
      },
      "source": [
        "### Fecha de entrega:\n",
        "Martes 14 de octubre a las 23:59hs"
      ]
    },
    {
      "cell_type": "markdown",
      "metadata": {
        "id": "N9TU2y7E-c9h"
      },
      "source": [
        "### Modalidad de entrega\n",
        "- Creen un respositorio de Github con su grupo para trabajar en las entregas. Les pido que me compartan el link al repositorio mediante el campus virtual y me agregue como colaboradora al repositorio para que pueda acceder (Mi usuario es hpilar). El repositorio tiene que ser privado.\n",
        "- Al finalizar el trabajo práctico deben hacer un último <i>commit</i> en su repositorio de GitHub con el mensaje “Entrega final del tp” y enviar un mail donde indiquen que ya entregaron el trabajo. A lo largo del curso, todos los miembros del grupo tienen que haber hecho al menos un commit en el <i>repositorio</i>.\n",
        "- Asegurense de haber creado una carpeta llamada TP1. Vamos a usar el mismo repositorio para todos los TPs, con una carpeta por TP.\n",
        "- Si aún no se anotaron en ningún grupo, tienen que sumarse en el Campus Virtual y en el Excel de los grupos: https://docs.google.com/spreadsheets/d/1RauRGhXuADFcXt4DTMBe7QC2pFJeK_ECuu0IYpKsCpg/edit?usp=sharing\n",
        "- La última versión en el repositorio es la que será evaluada. Por lo que es importante que:\n",
        "    - No envien el correo hasta no haber terminado y estar seguros de que han hecho el <i>commit y push</i> a la versión final que quieren entregar.\n",
        "    - No hagan nuevos <i>push</i> despues de haber entregado su versión final. Esto generaría confusión acerca de que versión es la que quieren que se les corrija."
      ]
    },
    {
      "cell_type": "markdown",
      "metadata": {
        "id": "ZXbrPraa-c9i"
      },
      "source": [
        "#### Ejercicio 1\n",
        "Este ejercicio simplemente busca repasar lo que aprendimos sobre definición de variables. Definir dos variables con un nombre combinado (al menos dos palabras), una que se pueda crear y otra que tenga un nombre inaceptable (genera error). Explicar por qué ocurre el error."
      ]
    },
    {
      "cell_type": "code",
      "execution_count": null,
      "metadata": {
        "id": "mb7PkXfN-c9j",
        "colab": {
          "base_uri": "https://localhost:8080/",
          "height": 106
        },
        "outputId": "e74c7f04-004d-4ac0-a4c5-dca490ddd358"
      },
      "outputs": [
        {
          "output_type": "error",
          "ename": "SyntaxError",
          "evalue": "invalid decimal literal (ipython-input-2454164463.py, line 7)",
          "traceback": [
            "\u001b[0;36m  File \u001b[0;32m\"/tmp/ipython-input-2454164463.py\"\u001b[0;36m, line \u001b[0;32m7\u001b[0m\n\u001b[0;31m    5variable_mal = \"Mal\"\u001b[0m\n\u001b[0m    ^\u001b[0m\n\u001b[0;31mSyntaxError\u001b[0m\u001b[0;31m:\u001b[0m invalid decimal literal\n"
          ]
        }
      ],
      "source": [
        "# Caso A\n",
        "variable_bien = \"Bien\"\n",
        "print(variable_bien)\n",
        "\n",
        "\n",
        "# Caso B (acá debería saltar un error)\n",
        "5variable_mal = \"Mal\"\n",
        "print(variable_mal)\n",
        "\n",
        "#El error surge porque el nombre de la variable no debe comenzar con un número."
      ]
    },
    {
      "cell_type": "markdown",
      "metadata": {
        "id": "Od_5reRHc9G7"
      },
      "source": [
        "#### Ejercicio 2\n",
        "Importar módulos. Usando el módulo math impriman la tangente de 1. ¿Cuál es el resultado?\n",
        "Hagan este cálculo de dos formas: primero importando el módulo math y usando la función correspondiente y luego solo importando la función específica que precisan para el cálculo."
      ]
    },
    {
      "cell_type": "code",
      "execution_count": null,
      "metadata": {
        "id": "rRTZ9sbGc9G-",
        "colab": {
          "base_uri": "https://localhost:8080/"
        },
        "outputId": "aa810d83-f417-4aa6-e588-01d3da68fdeb"
      },
      "outputs": [
        {
          "output_type": "stream",
          "name": "stdout",
          "text": [
            "1.5574077246549023\n",
            "1.5574077246549023\n"
          ]
        }
      ],
      "source": [
        "# Caso A - Importamos todo el módulo _math_\n",
        "import math\n",
        "print(math.tan(1))\n",
        "\n",
        "# Caso B - Solo importamos la función que nos interesa\n",
        "from math import tan\n",
        "print(tan(1))\n",
        "\n"
      ]
    },
    {
      "cell_type": "markdown",
      "metadata": {
        "id": "GlNh0fyv-c9l"
      },
      "source": [
        "#### Ejercicio 3\n",
        "Este ejercicio trata sobre lograr el intercambio de valores entre dos variables utilizando una variable temporal para hacerlo. Las variables temporales y la sustitución de valores termina siendo útil en algunos loops. Los pasos a seguir son: (a) definir variables A y B (cuyos valores buscaremos invertir); (b) definir una variable temporal que resguarde el valor de B; (c) sustitución (asignar B igual a A y también A igual al valor original de B); (d) imprimir valores para verificar."
      ]
    },
    {
      "cell_type": "code",
      "execution_count": 2,
      "metadata": {
        "id": "uWalSYFC-c9m",
        "colab": {
          "base_uri": "https://localhost:8080/"
        },
        "outputId": "cdcb2dca-76e9-4a48-d01e-4d2d984e2100"
      },
      "outputs": [
        {
          "output_type": "stream",
          "name": "stdout",
          "text": [
            "2\n",
            "1\n",
            "2\n"
          ]
        }
      ],
      "source": [
        "# a) Definir variables A y B,\n",
        "A = 1\n",
        "B = 2\n",
        "\n",
        "# b) Definir variable temporal \"tmp\" igual a B (la variable, no el valor)\n",
        "tmp = B\n",
        "\n",
        "# c) Ahora sustituir variables: variable B igual a variable A (la variable, no el\n",
        "# valor) y viceversa.\n",
        "B = A    # B toma el valor de A (1)\n",
        "A = tmp  # A toma el valor guardado en tmp (2)\n",
        "\n",
        "\n",
        "# d) Verifiquemos resultados: imprimir variables A y B\n",
        "print(A)\n",
        "print(B)\n",
        "print(tmp)"
      ]
    },
    {
      "cell_type": "markdown",
      "metadata": {
        "id": "wXhAaRyN-c9p"
      },
      "source": [
        "#### Ejercicio 4\n",
        "En este ejercicio se busca poner en práctica el uso de range() en un for loop.\n",
        "\n",
        "Construir un for loop usando un range(). El range debe ser entre los valores que quieran (con una diferencia mínima de 15 entre start y stop), en incrementos de 3 unidades. Dentro del loop, implementar una sentencia condicional que imprima una leyenda indicando si el input es par o impar."
      ]
    },
    {
      "cell_type": "code",
      "execution_count": 3,
      "metadata": {
        "id": "_oE5sG0c-c9q",
        "colab": {
          "base_uri": "https://localhost:8080/"
        },
        "outputId": "c768401f-db3c-4f91-c23a-e84497ce1d8a"
      },
      "outputs": [
        {
          "output_type": "stream",
          "name": "stdout",
          "text": [
            "10 es par\n",
            "13 es impar\n",
            "16 es par\n",
            "19 es impar\n",
            "22 es par\n",
            "25 es impar\n",
            "28 es par\n"
          ]
        }
      ],
      "source": [
        "# range(10, 30, 3) Creamos un rango entre 10 y 30 con saltos cada 3 unidades.\n",
        "for z in range(10, 30, 3):\n",
        "    if z % 2 == 0:\n",
        "        print(f\"{z} es par\")\n",
        "    else:\n",
        "        print(f\"{z} es impar\")"
      ]
    },
    {
      "cell_type": "markdown",
      "metadata": {
        "id": "h3g5bXUB-c9u"
      },
      "source": [
        "#### Ejercicio 5\n",
        "Para practicar el uso de condiciones lógicas y la definición de funciones, construir una función con una sentencia condicional que verifique si un año es bisiesto o no. Para que un año sea bisiesto debe cumplir una de dos condiciones:\n",
        "\n",
        "(a) que sea divisible por 400; o\n",
        "\n",
        "(b) que sea divisible por 4 y no sea divisible por 100\n",
        "\n",
        "Notar que son dos condiciones, donde la segunda condición tiene dos componentes. Prueben la función con 3 valores para verificar que funcione."
      ]
    },
    {
      "cell_type": "code",
      "execution_count": 10,
      "metadata": {
        "id": "7_MnILdz-c9v",
        "colab": {
          "base_uri": "https://localhost:8080/"
        },
        "outputId": "1f2ecf4a-d04f-487f-cc7d-234711c3e7f4"
      },
      "outputs": [
        {
          "output_type": "stream",
          "name": "stdout",
          "text": [
            "False\n",
            "False\n",
            "True\n"
          ]
        }
      ],
      "source": [
        "def es_bisiesto(año):\n",
        "    if año % 400 == 0 or (año % 4 == 0 and año % 100 != 0):\n",
        "        return True\n",
        "    else:\n",
        "        return False\n",
        "\n",
        "print(es_bisiesto(2030))  # False\n",
        "print(es_bisiesto(2015))  # False\n",
        "print(es_bisiesto(2024))  # True\n"
      ]
    },
    {
      "cell_type": "markdown",
      "metadata": {
        "collapsed": true,
        "id": "P3a7bJkd-c9w",
        "jupyter": {
          "outputs_hidden": true
        }
      },
      "source": [
        "#### Ejercicio 6\n",
        "Pongamos en práctica identificar el type() de cada variable. A continuación tenemos una lista con elementos de diferentes tipos. Construyan un for loop que itere sobre la lista e imprima un cartel indicando el tipo de dato u objeto que hay en cada caso."
      ]
    },
    {
      "cell_type": "code",
      "execution_count": 11,
      "metadata": {
        "id": "jDf4d_Wr-c9w"
      },
      "outputs": [],
      "source": [
        "mi_lista = [10, 34.5, 99999, 'abc', [1,2,3], ('ARG', 1810), {'pob': 45}, True]"
      ]
    },
    {
      "cell_type": "code",
      "execution_count": 12,
      "metadata": {
        "id": "SAJgEiNEFQAS",
        "colab": {
          "base_uri": "https://localhost:8080/"
        },
        "outputId": "d9634bb1-4bbf-4427-fa84-ae6ffa16232c"
      },
      "outputs": [
        {
          "output_type": "stream",
          "name": "stdout",
          "text": [
            "El elemento es de tipo: <class 'int'>\n",
            "El elemento es de tipo: <class 'float'>\n",
            "El elemento es de tipo: <class 'int'>\n",
            "El elemento es de tipo: <class 'str'>\n",
            "El elemento es de tipo: <class 'list'>\n",
            "El elemento es de tipo: <class 'tuple'>\n",
            "El elemento es de tipo: <class 'dict'>\n",
            "El elemento es de tipo: <class 'bool'>\n"
          ]
        }
      ],
      "source": [
        "for elemento in mi_lista:\n",
        "  print(f\"El elemento es de tipo: {type(elemento)}\")"
      ]
    },
    {
      "cell_type": "markdown",
      "metadata": {
        "id": "y1lncitl-c9x"
      },
      "source": [
        "#### Ejercicio 7\n",
        "Ahora definan ustedes una nueva lista, en la que los primeros cuatro elementos sean palabras (strings), el quinto elemento no sea string, y el sexto sea string. Construyan un for loop que corra por la lista y que imprima la palabra y la longitud de la misma. Que el loop contenga una sentencia condicional que imprima un cartel \"Elemento no es un string: < el elemento > | < class del elemento >\" para los casos dónde el elemento evaluado no sea string."
      ]
    },
    {
      "cell_type": "code",
      "execution_count": 15,
      "metadata": {
        "id": "bFOk9Os0-c9x",
        "colab": {
          "base_uri": "https://localhost:8080/"
        },
        "outputId": "9d4a0904-2048-4ac5-c772-266757691b4b"
      },
      "outputs": [
        {
          "output_type": "stream",
          "name": "stdout",
          "text": [
            "La palabra: Nina, tiene una longitud de 4\n",
            "La palabra: Renato, tiene una longitud de 6\n",
            "La palabra: Ignacio, tiene una longitud de 7\n",
            "La palabra: Julian, tiene una longitud de 6\n",
            "Elemento no es un string: True | <class 'bool'>\n",
            "La palabra: Walter, tiene una longitud de 6\n"
          ]
        }
      ],
      "source": [
        "lista = [\"Nina\", \"Renato\", \"Ignacio\", \"Julian\", True, \"Walter\"] # Definimos la lista según lo indicado en las consignas.\n",
        "for i in lista: # Loop\n",
        "  if isinstance(i, str): # Condicional\n",
        "    print(f\"La palabra: {i}, tiene una longitud de {len(i)}\")\n",
        "  else: # Si no cumple la condición:\n",
        "    print(f\"Elemento no es un string: {i} | {type(i)}\")"
      ]
    },
    {
      "cell_type": "markdown",
      "metadata": {
        "id": "PUpxDz72-c9x"
      },
      "source": [
        "#### Ejercicio 8\n",
        "Argentina tiene una representación legislativa proporcional en la cual la cantidad de diputados se debería ajustar según el tamaño de población de cada provincia. Otra característica de la representación legislativa del país es que hay una cantidad mínima de diputados por provincia (5). Esto genera un desbalance en la cantidad de ciudadanos por cada representante en el Congreso entre provincias.\n",
        "\n",
        "A continuación preparamos algunos ejemplos, dividiendo la población de cada provincia (según estimación para el 2022) por la cantidad de representantes en el Congreso para esa misma jurisdicción. También armamos el equivalente para el total país y una lista con los valores provinciales.\n",
        "\n",
        "En este ejercicio les pedimos que construyan un for loop que itere sobre el diccionario definido y compare cada valor provincial contra el valor de proporcionalidad directa (la variable argentina). El loop debe imprimir una leyenda que indique si la provincia está sobrerepresentada, subrepresentada o con representación proporcional. Además, queremos que el mismo loop compare los valores de las provincias sobrerepresentadas y que guarde el valor de la provincia con mayor sobrerepresentación. Luego del loop impriman este valor así podemos ver que haya funcionado.\n",
        "\n",
        "Fuente para población: https://es.wikipedia.org/wiki/Demograf%C3%ADa_de_Argentina\n",
        "\n",
        "Fuente para representantes: https://es.wikipedia.org/wiki/C%C3%A1mara_de_Diputados_de_la_Naci%C3%B3n_Argentina"
      ]
    },
    {
      "cell_type": "code",
      "execution_count": null,
      "metadata": {
        "id": "hd8Z5AHs-c9y"
      },
      "outputs": [],
      "source": [
        "# Valor de referencia: proporcionalidad\n",
        "argentina = 46044703 / 257\n",
        "\n",
        "# Creamos variables para una selección de jurisdicciones\n",
        "cordoba = 3978984 / 18\n",
        "santa_fe = 3556522 / 19\n",
        "mendoza = 2014533 / 10\n",
        "buenos_aires = 17569053 / 70\n",
        "entre_rios =  1426426 / 9\n",
        "santa_cruz = 333473 / 5\n",
        "formosa = 606041 / 5\n",
        "\n",
        "# Definimos el diccionario para iterar\n",
        "dict_provincias = {\n",
        "    \"Córdoba\": cordoba,\n",
        "    \"Santa Fe\": santa_fe,\n",
        "    \"Mendoza\": mendoza,\n",
        "    \"Buenos Aires\": buenos_aires,\n",
        "    \"Entre Ríos\": entre_rios,\n",
        "    \"Santa Cruz\": santa_cruz,\n",
        "    \"Formosa\": formosa\n",
        "}"
      ]
    },
    {
      "cell_type": "code",
      "execution_count": 18,
      "metadata": {
        "id": "fsEHnxiY-c9y",
        "scrolled": true,
        "colab": {
          "base_uri": "https://localhost:8080/",
          "height": 216
        },
        "outputId": "3743a557-4c4a-47b4-9b5e-c3a94a40188a"
      },
      "outputs": [
        {
          "output_type": "error",
          "ename": "NameError",
          "evalue": "name 'dict_provincias' is not defined",
          "traceback": [
            "\u001b[0;31m---------------------------------------------------------------------------\u001b[0m",
            "\u001b[0;31mNameError\u001b[0m                                 Traceback (most recent call last)",
            "\u001b[0;32m/tmp/ipython-input-2534542124.py\u001b[0m in \u001b[0;36m<cell line: 0>\u001b[0;34m()\u001b[0m\n\u001b[0;32m----> 1\u001b[0;31m \u001b[0;32mfor\u001b[0m \u001b[0mprovincia\u001b[0m \u001b[0;32min\u001b[0m \u001b[0mdict_provincias\u001b[0m\u001b[0;34m.\u001b[0m\u001b[0mitems\u001b[0m\u001b[0;34m(\u001b[0m\u001b[0;34m)\u001b[0m\u001b[0;34m:\u001b[0m\u001b[0;34m\u001b[0m\u001b[0;34m\u001b[0m\u001b[0m\n\u001b[0m\u001b[1;32m      2\u001b[0m     \u001b[0;32mif\u001b[0m \u001b[0mprovincia\u001b[0m \u001b[0;34m>\u001b[0m \u001b[0margentina\u001b[0m\u001b[0;34m:\u001b[0m\u001b[0;34m\u001b[0m\u001b[0;34m\u001b[0m\u001b[0m\n\u001b[1;32m      3\u001b[0m         \u001b[0mprint\u001b[0m\u001b[0;34m(\u001b[0m\u001b[0;34mf\"{provincia} está sobrerepresentada\"\u001b[0m\u001b[0;34m)\u001b[0m\u001b[0;34m\u001b[0m\u001b[0;34m\u001b[0m\u001b[0m\n\u001b[1;32m      4\u001b[0m     \u001b[0;32melif\u001b[0m \u001b[0mprovincia\u001b[0m \u001b[0;34m<\u001b[0m \u001b[0margentina\u001b[0m\u001b[0;34m:\u001b[0m\u001b[0;34m\u001b[0m\u001b[0;34m\u001b[0m\u001b[0m\n\u001b[1;32m      5\u001b[0m         \u001b[0mprint\u001b[0m\u001b[0;34m(\u001b[0m\u001b[0;34mf\"{provincia} está subrepresentada\"\u001b[0m\u001b[0;34m)\u001b[0m\u001b[0;34m\u001b[0m\u001b[0;34m\u001b[0m\u001b[0m\n",
            "\u001b[0;31mNameError\u001b[0m: name 'dict_provincias' is not defined"
          ]
        }
      ],
      "source": [
        "for provincia in dict_provincias.items():\n",
        "    if provincia > argentina:\n",
        "        print(f\"{provincia} está sobrerepresentada\")\n",
        "    elif provincia < argentina:\n",
        "        print(f\"{provincia} está subrepresentada\")"
      ]
    },
    {
      "cell_type": "markdown",
      "metadata": {
        "id": "GokZe5tV-c9z"
      },
      "source": [
        "#### Ejercicio 9\n",
        "Si buscáramos minimizar la subrepresentación de la provincia de Buenos Aires, ¿cuántos representantes debería tener según el Censo 2022? Usemos el mismo criterio de sub/sobrerepresentacion que en el ejercicio anterior: población sobre cantidad de representantes.\n",
        "\n",
        "Para responder esta pregunta construyan un while loop que incremente de a uno la cantidad de representantes de la Provincia hasta minimizar la subrepresentación. En cada iteración impriman un cartel que diga: \"Se agregó un representante, el total ahora es X\" dónde X es el número de representantes simulado."
      ]
    },
    {
      "cell_type": "code",
      "execution_count": null,
      "metadata": {
        "id": "x9DvuXa_-c9z"
      },
      "outputs": [],
      "source": [
        "# Estos son los valores de la provincia\n",
        "representantes_pba = 70\n",
        "poblacion2010_pba = 17594428\n",
        "\n",
        "\n",
        "# Y el valor de referencia nacional\n",
        "argentina = 46044703 / 257\n"
      ]
    },
    {
      "cell_type": "code",
      "execution_count": null,
      "metadata": {
        "id": "6p_XHjXgc9HL"
      },
      "outputs": [],
      "source": [
        "# Resolver acá\n"
      ]
    },
    {
      "cell_type": "markdown",
      "metadata": {
        "id": "vDK7Ol_uc9HL"
      },
      "source": [
        "#### Ejercicio 10"
      ]
    },
    {
      "cell_type": "markdown",
      "metadata": {
        "id": "O0Gv0nSfc9HM"
      },
      "source": [
        "Construyan una función llamada 'suma' que tome una cantidad variable de parámetros y devuelva el resultado de la suma. Ayuda: miren los ejercicios que hay al final de la clase 1."
      ]
    },
    {
      "cell_type": "code",
      "execution_count": null,
      "metadata": {
        "id": "NPCGRcnBc9HM"
      },
      "outputs": [],
      "source": [
        "# Resolver acá"
      ]
    }
  ],
  "metadata": {
    "anaconda-cloud": {},
    "colab": {
      "provenance": [],
      "include_colab_link": true
    },
    "kernelspec": {
      "display_name": "Python 3 (ipykernel)",
      "language": "python",
      "name": "python3"
    },
    "language_info": {
      "codemirror_mode": {
        "name": "ipython",
        "version": 3
      },
      "file_extension": ".py",
      "mimetype": "text/x-python",
      "name": "python",
      "nbconvert_exporter": "python",
      "pygments_lexer": "ipython3",
      "version": "3.11.8"
    }
  },
  "nbformat": 4,
  "nbformat_minor": 0
}